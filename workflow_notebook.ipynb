{
 "cells": [
  {
   "cell_type": "markdown",
   "id": "0ac82128",
   "metadata": {},
   "source": [
    "#### Importing packages"
   ]
  },
  {
   "cell_type": "code",
   "execution_count": 1,
   "id": "91542d43",
   "metadata": {},
   "outputs": [],
   "source": [
    "# Importing the scripts\n",
    "from webdesign.polls.scripts import preprocess\n",
    "from webdesign.polls.scripts import categorize\n",
    "from webdesign.polls.scripts import analyze\n",
    "from webdesign.polls.scripts import visualize\n",
    "from webdesign.polls.scripts import forecast\n",
    "\n",
    "# Importing other packages\n",
    "import pandas as pd\n",
    "import numpy as np\n",
    "\n",
    "import seaborn as sns\n",
    "import matplotlib.pyplot as plt\n",
    "%matplotlib inline\n",
    "from IPython.display import Markdown, display\n",
    "def printmd(string):\n",
    "    display(Markdown(string))"
   ]
  },
  {
   "cell_type": "markdown",
   "id": "0253289a",
   "metadata": {},
   "source": [
    "#### Workflow "
   ]
  },
  {
   "cell_type": "code",
   "execution_count": 2,
   "id": "6b47f2ab",
   "metadata": {
    "tags": []
   },
   "outputs": [],
   "source": [
    "def single_ts_workflow(input_ts,workflow_type,freq,fill_method,smooth_window,cat_method,num_bins,win_size=None,custom_range=None,title=None):\n",
    "    pp_ts = preprocess.fill_dates(input_ts,freq) \n",
    "    pp_ts = preprocess.fill_values(pp_ts,fill_method)\n",
    "    pp_ts = preprocess.smoothing(pp_ts,smooth_window)\n",
    "\n",
    "    if cat_method[0] == 'L':\n",
    "        cat_ts, bin_bounds = categorize.level_categorize(pp_ts,cat_method,num_bins,custom_range)\n",
    "    else:\n",
    "        trend_ts, (cat_ts, bin_bounds) = categorize.trend_categorize(pp_ts,cat_method,win_size,num_bins,custom_range)\n",
    "\n",
    "    if workflow_type == 'single':\n",
    "        ### display plots and table only for single time series workflow\n",
    "        if cat_method[0] == 'L':\n",
    "            visualize.single_ts_level_plot_nosave(pp_ts,cat_ts,bin_bounds,title)\n",
    "        else:\n",
    "            visualize.single_ts_trend_plot_nosave(pp_ts,trend_ts,cat_ts,bin_bounds,title)\n",
    "        display(analyze.single_ts_analyze(cat_ts,bin_bounds,freq))\n",
    "    else:\n",
    "        return cat_ts"
   ]
  },
  {
   "cell_type": "markdown",
   "id": "1d091145",
   "metadata": {
    "jp-MarkdownHeadingCollapsed": true,
    "tags": []
   },
   "source": [
    "### Single Time Series"
   ]
  },
  {
   "cell_type": "markdown",
   "id": "a46d8c6e",
   "metadata": {},
   "source": [
    "#### Parameters"
   ]
  },
  {
   "cell_type": "code",
   "execution_count": null,
   "id": "42b6b9d8",
   "metadata": {},
   "outputs": [],
   "source": [
    "### preprocess parameters\n",
    "fill_method = 'linear'\n",
    "smooth_window = 7\n",
    "\n",
    "### categorize parameters\n",
    "cat_method = 'T-rate'\n",
    "num_bins = 8\n",
    "win_size = 14\n",
    "#custom_range = (0,500)"
   ]
  },
  {
   "cell_type": "code",
   "execution_count": null,
   "id": "35b8e6a3",
   "metadata": {},
   "outputs": [],
   "source": [
    "workflow_type = 'single'\n",
    "freq = 'D'\n",
    "input_ts = pd.read_csv('/Users/vsriniv/Documents/Research/Github/PEpiTA/data/va_covid_admissions.csv',parse_dates=['date'])"
   ]
  },
  {
   "cell_type": "code",
   "execution_count": null,
   "id": "d3092383-838c-46fa-adf5-57a90a38adc2",
   "metadata": {},
   "outputs": [],
   "source": [
    "input_ts"
   ]
  },
  {
   "cell_type": "code",
   "execution_count": null,
   "id": "d4329e83",
   "metadata": {},
   "outputs": [],
   "source": [
    "single_ts_workflow(input_ts,workflow_type,freq,fill_method,smooth_window,cat_method,num_bins,win_size)"
   ]
  },
  {
   "cell_type": "markdown",
   "id": "9fe2eb48",
   "metadata": {
    "jp-MarkdownHeadingCollapsed": true,
    "tags": []
   },
   "source": [
    "### Multi Time series"
   ]
  },
  {
   "cell_type": "markdown",
   "id": "884ca909",
   "metadata": {},
   "source": [
    "#### Parameters"
   ]
  },
  {
   "cell_type": "code",
   "execution_count": null,
   "id": "f6dfbb0b",
   "metadata": {},
   "outputs": [],
   "source": [
    "### preprocess parameters\n",
    "fill_method = 'linear'\n",
    "smooth_window = 7\n",
    "\n",
    "### categorize parameters\n",
    "cat_method = 'L-qcut'\n",
    "num_bins = 5\n",
    "win_size = 14\n",
    "#custom_range = (0,500)"
   ]
  },
  {
   "cell_type": "code",
   "execution_count": null,
   "id": "283da265",
   "metadata": {},
   "outputs": [],
   "source": [
    "workflow_type = 'multi-signal'\n",
    "freq = 'W'\n",
    "input_df = pd.read_csv('/Users/vsriniv/Documents/Research/Github/PEpiTA/data/va_cases_cli_viralload.csv',parse_dates=['date'],index_col=0)"
   ]
  },
  {
   "cell_type": "code",
   "execution_count": null,
   "id": "90defe63",
   "metadata": {},
   "outputs": [],
   "source": [
    "cat_df = pd.DataFrame()\n",
    "for column in input_df.columns:\n",
    "    print(input_df)\n",
    "    signal_ts = input_df[[column]]\n",
    "    signal_ts.columns = ['value']\n",
    "    input_ts = signal_ts.reset_index()\n",
    "    printmd(\"**\"+column+\"**\")\n",
    "    single_ts_workflow(input_ts,'single',freq,fill_method,smooth_window,cat_method,num_bins,win_size,title=column)\n",
    "    cat_ts = single_ts_workflow(input_ts,workflow_type,freq,fill_method,smooth_window,cat_method,num_bins,win_size)\n",
    "    cat_df = pd.concat([cat_df,cat_ts],axis=1)\n",
    "cat_df.columns = input_df.columns\n",
    "cat_df"
   ]
  },
  {
   "cell_type": "code",
   "execution_count": null,
   "id": "cf000bab",
   "metadata": {},
   "outputs": [],
   "source": [
    "visualize.multi_signal_plot(cat_df,cat_method)"
   ]
  },
  {
   "cell_type": "code",
   "execution_count": null,
   "id": "3328f7a0-a156-4f7a-9ffc-38f08e31becc",
   "metadata": {},
   "outputs": [],
   "source": [
    "chi_df, pval_df, csq_str_df = analyze.multi_ts_analyze(cat_df)"
   ]
  },
  {
   "cell_type": "code",
   "execution_count": null,
   "id": "049e946f-a156-4115-bb38-e892ef3759b4",
   "metadata": {},
   "outputs": [],
   "source": [
    "visualize.multi_cat_csq(chi_df,csq_str_df)"
   ]
  },
  {
   "cell_type": "markdown",
   "id": "7c8306bf-02a8-4a13-9d72-c76cc99a6d83",
   "metadata": {
    "tags": []
   },
   "source": [
    "### Forecast"
   ]
  },
  {
   "cell_type": "code",
   "execution_count": 3,
   "id": "fc1acdf4-a9e8-44bd-937c-da3e89d968ee",
   "metadata": {},
   "outputs": [],
   "source": [
    "#qfct, cat_fct = forecast.fcast_example()\n",
    "loc='US'\n",
    "data_cutoff='2024-03-16'\n",
    "obs_date=pd.to_datetime(data_cutoff)\n",
    "\n",
    "fname='https://raw.githubusercontent.com/cdcepi/FluSight-forecast-hub/main/target-data/target-hospital-admissions.csv'\n",
    "df=pd.read_csv(fname,parse_dates=['date'])\n",
    "\n",
    "input_ts=df.pivot(index='date',columns='location',values='value')[loc].reset_index()\n",
    "input_ts.columns = ['date','value']"
   ]
  },
  {
   "cell_type": "code",
   "execution_count": 4,
   "id": "9cd58342-fc11-4cc6-9733-2e2ee9738629",
   "metadata": {},
   "outputs": [],
   "source": [
    "workflow_type = 'single'\n",
    "freq = 'W'\n",
    "fill_method = 'linear'\n",
    "smooth_window = 1\n",
    "cat_method = 'L-qcut'\n",
    "num_bins = 5"
   ]
  },
  {
   "cell_type": "code",
   "execution_count": 5,
   "id": "85aa161a-513a-46dc-845e-ac5f5d527c55",
   "metadata": {},
   "outputs": [
    {
     "data": {
      "text/html": [
       "<div>\n",
       "<style scoped>\n",
       "    .dataframe tbody tr th:only-of-type {\n",
       "        vertical-align: middle;\n",
       "    }\n",
       "\n",
       "    .dataframe tbody tr th {\n",
       "        vertical-align: top;\n",
       "    }\n",
       "\n",
       "    .dataframe thead th {\n",
       "        text-align: right;\n",
       "    }\n",
       "</style>\n",
       "<table border=\"1\" class=\"dataframe\">\n",
       "  <thead>\n",
       "    <tr style=\"text-align: right;\">\n",
       "      <th></th>\n",
       "      <th>date</th>\n",
       "      <th>value</th>\n",
       "    </tr>\n",
       "  </thead>\n",
       "  <tbody>\n",
       "    <tr>\n",
       "      <th>0</th>\n",
       "      <td>2022-02-12</td>\n",
       "      <td>1237</td>\n",
       "    </tr>\n",
       "    <tr>\n",
       "      <th>1</th>\n",
       "      <td>2022-02-19</td>\n",
       "      <td>1512</td>\n",
       "    </tr>\n",
       "    <tr>\n",
       "      <th>2</th>\n",
       "      <td>2022-02-26</td>\n",
       "      <td>1669</td>\n",
       "    </tr>\n",
       "    <tr>\n",
       "      <th>3</th>\n",
       "      <td>2022-03-05</td>\n",
       "      <td>1889</td>\n",
       "    </tr>\n",
       "    <tr>\n",
       "      <th>4</th>\n",
       "      <td>2022-03-12</td>\n",
       "      <td>2223</td>\n",
       "    </tr>\n",
       "    <tr>\n",
       "      <th>...</th>\n",
       "      <td>...</td>\n",
       "      <td>...</td>\n",
       "    </tr>\n",
       "    <tr>\n",
       "      <th>108</th>\n",
       "      <td>2024-03-09</td>\n",
       "      <td>9117</td>\n",
       "    </tr>\n",
       "    <tr>\n",
       "      <th>109</th>\n",
       "      <td>2024-03-16</td>\n",
       "      <td>7272</td>\n",
       "    </tr>\n",
       "    <tr>\n",
       "      <th>110</th>\n",
       "      <td>2024-03-23</td>\n",
       "      <td>5904</td>\n",
       "    </tr>\n",
       "    <tr>\n",
       "      <th>111</th>\n",
       "      <td>2024-03-30</td>\n",
       "      <td>5430</td>\n",
       "    </tr>\n",
       "    <tr>\n",
       "      <th>112</th>\n",
       "      <td>2024-04-06</td>\n",
       "      <td>4930</td>\n",
       "    </tr>\n",
       "  </tbody>\n",
       "</table>\n",
       "<p>113 rows × 2 columns</p>\n",
       "</div>"
      ],
      "text/plain": [
       "          date  value\n",
       "0   2022-02-12   1237\n",
       "1   2022-02-19   1512\n",
       "2   2022-02-26   1669\n",
       "3   2022-03-05   1889\n",
       "4   2022-03-12   2223\n",
       "..         ...    ...\n",
       "108 2024-03-09   9117\n",
       "109 2024-03-16   7272\n",
       "110 2024-03-23   5904\n",
       "111 2024-03-30   5430\n",
       "112 2024-04-06   4930\n",
       "\n",
       "[113 rows x 2 columns]"
      ]
     },
     "execution_count": 5,
     "metadata": {},
     "output_type": "execute_result"
    }
   ],
   "source": [
    "input_ts"
   ]
  },
  {
   "cell_type": "code",
   "execution_count": 6,
   "id": "96b53c75-e40f-484b-9069-741aca049651",
   "metadata": {},
   "outputs": [
    {
     "data": {
      "text/html": [
       "<div>\n",
       "<style scoped>\n",
       "    .dataframe tbody tr th:only-of-type {\n",
       "        vertical-align: middle;\n",
       "    }\n",
       "\n",
       "    .dataframe tbody tr th {\n",
       "        vertical-align: top;\n",
       "    }\n",
       "\n",
       "    .dataframe thead th {\n",
       "        text-align: right;\n",
       "    }\n",
       "</style>\n",
       "<table border=\"1\" class=\"dataframe\">\n",
       "  <thead>\n",
       "    <tr style=\"text-align: right;\">\n",
       "      <th></th>\n",
       "      <th>category</th>\n",
       "      <th>bin_boundaries</th>\n",
       "      <th>number_of_occurrences</th>\n",
       "      <th>percent_time_spent</th>\n",
       "      <th>average_duration_spent</th>\n",
       "    </tr>\n",
       "  </thead>\n",
       "  <tbody>\n",
       "    <tr>\n",
       "      <th>0</th>\n",
       "      <td>Q1</td>\n",
       "      <td>(572.0, 857.4)</td>\n",
       "      <td>23</td>\n",
       "      <td>20.35%</td>\n",
       "      <td>7.7</td>\n",
       "    </tr>\n",
       "    <tr>\n",
       "      <th>1</th>\n",
       "      <td>Q2</td>\n",
       "      <td>(857.4, 1295.2)</td>\n",
       "      <td>22</td>\n",
       "      <td>19.47%</td>\n",
       "      <td>3.7</td>\n",
       "    </tr>\n",
       "    <tr>\n",
       "      <th>2</th>\n",
       "      <td>Q3</td>\n",
       "      <td>(1295.2, 2810.8)</td>\n",
       "      <td>23</td>\n",
       "      <td>20.35%</td>\n",
       "      <td>4.6</td>\n",
       "    </tr>\n",
       "    <tr>\n",
       "      <th>3</th>\n",
       "      <td>Q4</td>\n",
       "      <td>(2810.8, 7255.6)</td>\n",
       "      <td>22</td>\n",
       "      <td>19.47%</td>\n",
       "      <td>4.4</td>\n",
       "    </tr>\n",
       "    <tr>\n",
       "      <th>4</th>\n",
       "      <td>Q5</td>\n",
       "      <td>(7255.6, 26602.0)</td>\n",
       "      <td>23</td>\n",
       "      <td>20.35%</td>\n",
       "      <td>11.5</td>\n",
       "    </tr>\n",
       "  </tbody>\n",
       "</table>\n",
       "</div>"
      ],
      "text/plain": [
       "  category     bin_boundaries  number_of_occurrences percent_time_spent  \\\n",
       "0       Q1     (572.0, 857.4)                     23             20.35%   \n",
       "1       Q2    (857.4, 1295.2)                     22             19.47%   \n",
       "2       Q3   (1295.2, 2810.8)                     23             20.35%   \n",
       "3       Q4   (2810.8, 7255.6)                     22             19.47%   \n",
       "4       Q5  (7255.6, 26602.0)                     23             20.35%   \n",
       "\n",
       "  average_duration_spent  \n",
       "0                    7.7  \n",
       "1                    3.7  \n",
       "2                    4.6  \n",
       "3                    4.4  \n",
       "4                   11.5  "
      ]
     },
     "metadata": {},
     "output_type": "display_data"
    },
    {
     "data": {
      "image/png": "[encoded data removed]",
      "text/plain": [
       "<Figure size 1440x576 with 2 Axes>"
      ]
     },
     "metadata": {},
     "output_type": "display_data"
    }
   ],
   "source": [
    "single_ts_workflow(input_ts,workflow_type,freq,fill_method,smooth_window,cat_method,num_bins)"
   ]
  },
  {
   "cell_type": "code",
   "execution_count": 8,
   "id": "85941906-41ae-497f-bb87-875faa953589",
   "metadata": {},
   "outputs": [],
   "source": [
    "qfct, cat_fct, _ = forecast.ARIMA_func(input_ts,cat_method,num_bins)\n",
    "qfct.drop_duplicates(['target_end_date'],inplace=True)"
   ]
  },
  {
   "cell_type": "code",
   "execution_count": 9,
   "id": "643cb919-89ea-4fec-bb7d-29bc895a0552",
   "metadata": {},
   "outputs": [
    {
     "data": {
      "text/plain": [
       "<matplotlib.collections.PolyCollection at 0x7fec5879fd90>"
      ]
     },
     "execution_count": 9,
     "metadata": {},
     "output_type": "execute_result"
    },
    {
     "data": {
      "image/png": "[encoded data removed]",
      "text/plain": [
       "<Figure size 432x288 with 1 Axes>"
      ]
     },
     "metadata": {
      "needs_background": "light"
     },
     "output_type": "display_data"
    }
   ],
   "source": [
    "input_ts.plot(x='date',y='value')\n",
    "ax = plt.gca()\n",
    "qfct.plot(x='target_end_date',y='point',ax=ax)\n",
    "ax.fill_between(qfct['target_end_date'].values,qfct['fct_lb'].values,qfct['fct_ub'].values,color='C1',alpha=0.25)"
   ]
  },
  {
   "cell_type": "code",
   "execution_count": 10,
   "id": "0477f569-6162-4d61-a4d0-24cc8e6e214c",
   "metadata": {},
   "outputs": [
    {
     "data": {
      "text/plain": [
       "'20240416144427202386.png'"
      ]
     },
     "execution_count": 10,
     "metadata": {},
     "output_type": "execute_result"
    }
   ],
   "source": [
    "visualize.cat_fcast_plot(cat_fct)"
   ]
  },
  {
   "cell_type": "code",
   "execution_count": 11,
   "id": "61762ffa-4868-45b9-a90b-ab9cef9ca947",
   "metadata": {},
   "outputs": [
    {
     "data": {
      "text/plain": [
       "target_end_date\n",
       "2024-04-13    0.968708\n",
       "2024-04-20    0.854248\n",
       "2024-04-27    0.750983\n",
       "2024-05-04    0.708156\n",
       "Name: value, dtype: float64"
      ]
     },
     "execution_count": 11,
     "metadata": {},
     "output_type": "execute_result"
    }
   ],
   "source": [
    "cat_fct.groupby('target_end_date')['value'].sum()"
   ]
  }
 ],
 "metadata": {
  "kernelspec": {
   "display_name": "Python 3 (ipykernel)",
   "language": "python",
   "name": "python3"
  },
  "language_info": {
   "codemirror_mode": {
    "name": "ipython",
    "version": 3
   },
   "file_extension": ".py",
   "mimetype": "text/x-python",
   "name": "python",
   "nbconvert_exporter": "python",
   "pygments_lexer": "ipython3",
   "version": "3.9.7"
  }
 },
 "nbformat": 4,
 "nbformat_minor": 5
}
